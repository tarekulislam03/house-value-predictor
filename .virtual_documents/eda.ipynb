import pandas as pd


df = pd.read_csv("housing.csv")


df.describe()


df.info()



