import pandas as pd


df = pd.read_csv("housing.csv")


import numpy as np


def shuffle_and_split_data(data, test_ratio):
    shuffled_indices = np.random.permutation(len(data))
    test_set_size = int(len(data) * test_ratio)
    test_index = shuffled_indices[:test_set_size]
    train_index = shuffled_indices[test_set_size:]
    return data.iloc[test_index], data.iloc[train_index]


test , train = shuffle_and_split_data(df, 0.2)


test.head()


df["income_category"] = pd.cut(df["median_income"], bins=[0, 1.5, 3.0, 4.5, 6.0, np.inf], labels=[1, 2, 3, 4, 5])


df.head()


df.tail()


import matplotlib.pyplot as plt


df["income_category"].value_counts().sort_index().plot.bar(rot=0, grid=False)


from sklearn.model_selection import StratifiedShuffleSplit
 
# Assume income_cat is a column in the dataset created from median_income
split = StratifiedShuffleSplit(n_splits=1, test_size=0.2, random_state=42)
 
for train_index, test_index in split.split(df, df["income_category"]):
    strat_train_set = df.loc[train_index]
    strat_test_set = df.loc[test_index]


strat_train_set.hist(figsize=(12,8))






