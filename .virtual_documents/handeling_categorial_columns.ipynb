import pandas as pd


df = pd.read_csv("housing.csv")


import numpy as np


df["income_category"] = pd.cut(df["median_income"], bins=[0, 1.5, 3.0, 4.5, 6.0, np.inf], labels=[1, 2, 3, 4, 5])


from sklearn.model_selection import StratifiedShuffleSplit
 
# Assume income_cat is a column in the dataset created from median_income
split = StratifiedShuffleSplit(n_splits=1, test_size=0.2, random_state=42)
 
for train_index, test_index in split.split(df, df["income_category"]):
    strat_train_set = df.loc[train_index]
    strat_test_set = df.loc[test_index]


for sett in (strat_train_set, strat_test_set):
    sett.drop("income_category", axis=1, inplace=True)


df = strat_train_set.copy()


housing = strat_train_set.drop("median_house_value", axis=1)
housing_label = strat_train_set["median_house_value"].copy()


from sklearn.impute import SimpleImputer


imputer = SimpleImputer(strategy="median")


housing_num = housing.select_dtypes(include=[np.number])
imputer.fit(housing_num)


x = imputer.transform(housing_num)


# x is the most cleaned data but there is one coloumn missing (ocean_proximity)


housing_cat= housing[["ocean_proximity"]]


from sklearn.preprocessing import OneHotEncoder

cat_encoder = OneHotEncoder()
housing_cat_1hot = cat_encoder.fit_transform(housing_cat)


housing_cat_1hot.toarray()


cat_encoder.categories_


housing_cat = pd.DataFrame(housing_cat_1hot.toarray(), columns=['<1H OCEAN', 'INLAND', 'ISLAND', 'NEAR BAY', 'NEAR OCEAN'], index=housing.index)


housing = pd.concat([housing, housing_cat], axis=1)


housing = housing.drop(["ocean_proximity"], axis=1)
